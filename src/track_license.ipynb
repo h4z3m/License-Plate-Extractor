{
 "cells": [
  {
   "cell_type": "code",
   "execution_count": 17,
   "metadata": {},
   "outputs": [
    {
     "name": "stdout",
     "output_type": "stream",
     "text": [
      "16:35:09 license_plate_extractor.py INFO: Reading preprocess config from: ./config/lpe_config.json\n",
      "16:35:09 license_plate_extractor.py INFO: Preprocess config: \n",
      "    Bilateral Filter:\n",
      "        d: 9\n",
      "        sigmaColor: 80\n",
      "        sigmaSpace: 80\n",
      "    Histogram Equalization:\n",
      "        clipLimit: 2\n",
      "        tileGridSize: [10, 10]\n",
      "    Disk Kernel radius: 16\n",
      "    Rect1 Kernel size: [12, 6]\n",
      "    Rect2 Kernel size: [23, 6]\n",
      "    Rect3 Kernel size: [15, 5]\n",
      "    Rect4 Kernel size: [18, 5]\n",
      "    Square Kernel size: 3\n",
      "    Sobel Kernel size: 31\n",
      "    Reference Image Path: .//image_1.png\n"
     ]
    }
   ],
   "source": [
    "import cv2\n",
    "\n",
    "from license_plate_extractor import LicensePlateExtractor\n",
    "\n",
    "# Load the video\n",
    "video = cv2.VideoCapture('../data/videos/IMG_2987.MOV')\n",
    "\n",
    "# Create an instance of LicensePlateExtractor\n",
    "LicensePlateExtractor.load_config()\n",
    "# Loop over the frames\n",
    "while True:\n",
    "    # Read a new frame\n",
    "    ret, frame = video.read()\n",
    "    if not ret:\n",
    "        break\n",
    "\n",
    "    # Extract the plate using your extract_plate method\n",
    "    cv2.imwrite('frame.jpg', frame)\n",
    "    _,candidates,_ = LicensePlateExtractor.extract_plate(\"frame.jpg\")\n",
    "    if len(candidates) == 0:\n",
    "        continue\n",
    "    for candidate in candidates:\n",
    "        bbox = candidate[3]\n",
    "        bbox = candidates[0][3]\n",
    "        # Draw the bounding box\n",
    "        if bbox is not None:\n",
    "            x, y, w, h = bbox\n",
    "            cv2.rectangle(frame, (x, y), (x + w, y + h), (0, 255, 0), 2)\n",
    "    # Display the resulting frame\n",
    "    cv2.imshow('Tracking', frame)\n",
    "\n",
    "    # Exit if ESC key is pressed\n",
    "    if cv2.waitKey(1) == 27:\n",
    "        break\n",
    "\n",
    "# Release the video capture and close the window\n",
    "video.release()\n",
    "cv2.destroyAllWindows()"
   ]
  },
  {
   "cell_type": "code",
   "execution_count": null,
   "metadata": {},
   "outputs": [],
   "source": []
  }
 ],
 "metadata": {
  "kernelspec": {
   "display_name": "pyenv",
   "language": "python",
   "name": "python3"
  },
  "language_info": {
   "codemirror_mode": {
    "name": "ipython",
    "version": 3
   },
   "file_extension": ".py",
   "mimetype": "text/x-python",
   "name": "python",
   "nbconvert_exporter": "python",
   "pygments_lexer": "ipython3",
   "version": "3.11.5"
  }
 },
 "nbformat": 4,
 "nbformat_minor": 2
}
